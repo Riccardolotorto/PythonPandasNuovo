{
  "nbformat": 4,
  "nbformat_minor": 0,
  "metadata": {
    "colab": {
      "provenance": []
    },
    "kernelspec": {
      "name": "python3",
      "display_name": "Python 3"
    },
    "language_info": {
      "name": "python"
    }
  },
  "cells": [
    {
      "cell_type": "code",
      "execution_count": null,
      "metadata": {
        "id": "2SnPOsoQntAC"
      },
      "outputs": [],
      "source": [
        "import pandas as pd"
      ]
    },
    {
      "cell_type": "code",
      "source": [
        "df = pd.read_excel(\"https://github.com/wtitze/3E/blob/main/BikeStores.xls?raw=true\", sheet_name=\"customers\")"
      ],
      "metadata": {
        "id": "bG8m76n-oNMK"
      },
      "execution_count": null,
      "outputs": []
    },
    {
      "cell_type": "code",
      "source": [
        "df"
      ],
      "metadata": {
        "colab": {
          "base_uri": "https://localhost:8080/",
          "height": 424
        },
        "id": "8MZcPQJsoV9x",
        "outputId": "a6452362-b47b-44c8-dc99-0fd4087bc34e"
      },
      "execution_count": null,
      "outputs": [
        {
          "output_type": "execute_result",
          "data": {
            "text/plain": [
              "      customer_id  first_name last_name           phone  \\\n",
              "0               1       Debra     Burks             NaN   \n",
              "1               2       Kasha      Todd             NaN   \n",
              "2               3      Tameka    Fisher             NaN   \n",
              "3               4       Daryl    Spence             NaN   \n",
              "4               5  Charolette      Rice  (916) 381-6003   \n",
              "...           ...         ...       ...             ...   \n",
              "1440         1441      Jamaal  Morrison             NaN   \n",
              "1441         1442      Cassie     Cline             NaN   \n",
              "1442         1443      Lezlie      Lamb             NaN   \n",
              "1443         1444      Ivette     Estes             NaN   \n",
              "1444         1445       Ester   Acevedo             NaN   \n",
              "\n",
              "                        email                  street           city state  \\\n",
              "0       debra.burks@yahoo.com       9273 Thorne Ave.    Orchard Park    NY   \n",
              "1        kasha.todd@yahoo.com        910 Vine Street        Campbell    CA   \n",
              "2       tameka.fisher@aol.com   769C Honey Creek St.   Redondo Beach    CA   \n",
              "3        daryl.spence@aol.com         988 Pearl Lane       Uniondale    NY   \n",
              "4     charolette.rice@msn.com          107 River Dr.      Sacramento    CA   \n",
              "...                       ...                     ...            ...   ...   \n",
              "1440  jamaal.morrison@msn.com  796 SE. Nut Swamp St.   Staten Island    NY   \n",
              "1441   cassie.cline@gmail.com    947 Lafayette Drive        Brooklyn    NY   \n",
              "1442    lezlie.lamb@gmail.com  401 Brandywine Street   Central Islip    NY   \n",
              "1443   ivette.estes@gmail.com  88 N. Canterbury Ave.     Canandaigua    NY   \n",
              "1444  ester.acevedo@gmail.com        671 Miles Court     San Lorenzo    CA   \n",
              "\n",
              "      zip_code  \n",
              "0      14127.0  \n",
              "1      95008.0  \n",
              "2      90278.0  \n",
              "3      11553.0  \n",
              "4      95820.0  \n",
              "...        ...  \n",
              "1440   10301.0  \n",
              "1441   11201.0  \n",
              "1442   11722.0  \n",
              "1443   14424.0  \n",
              "1444   94580.0  \n",
              "\n",
              "[1445 rows x 9 columns]"
            ],
            "text/html": [
              "\n",
              "  <div id=\"df-3c8c7415-09fa-416d-bf30-ad1242e0c8dd\">\n",
              "    <div class=\"colab-df-container\">\n",
              "      <div>\n",
              "<style scoped>\n",
              "    .dataframe tbody tr th:only-of-type {\n",
              "        vertical-align: middle;\n",
              "    }\n",
              "\n",
              "    .dataframe tbody tr th {\n",
              "        vertical-align: top;\n",
              "    }\n",
              "\n",
              "    .dataframe thead th {\n",
              "        text-align: right;\n",
              "    }\n",
              "</style>\n",
              "<table border=\"1\" class=\"dataframe\">\n",
              "  <thead>\n",
              "    <tr style=\"text-align: right;\">\n",
              "      <th></th>\n",
              "      <th>customer_id</th>\n",
              "      <th>first_name</th>\n",
              "      <th>last_name</th>\n",
              "      <th>phone</th>\n",
              "      <th>email</th>\n",
              "      <th>street</th>\n",
              "      <th>city</th>\n",
              "      <th>state</th>\n",
              "      <th>zip_code</th>\n",
              "    </tr>\n",
              "  </thead>\n",
              "  <tbody>\n",
              "    <tr>\n",
              "      <th>0</th>\n",
              "      <td>1</td>\n",
              "      <td>Debra</td>\n",
              "      <td>Burks</td>\n",
              "      <td>NaN</td>\n",
              "      <td>debra.burks@yahoo.com</td>\n",
              "      <td>9273 Thorne Ave.</td>\n",
              "      <td>Orchard Park</td>\n",
              "      <td>NY</td>\n",
              "      <td>14127.0</td>\n",
              "    </tr>\n",
              "    <tr>\n",
              "      <th>1</th>\n",
              "      <td>2</td>\n",
              "      <td>Kasha</td>\n",
              "      <td>Todd</td>\n",
              "      <td>NaN</td>\n",
              "      <td>kasha.todd@yahoo.com</td>\n",
              "      <td>910 Vine Street</td>\n",
              "      <td>Campbell</td>\n",
              "      <td>CA</td>\n",
              "      <td>95008.0</td>\n",
              "    </tr>\n",
              "    <tr>\n",
              "      <th>2</th>\n",
              "      <td>3</td>\n",
              "      <td>Tameka</td>\n",
              "      <td>Fisher</td>\n",
              "      <td>NaN</td>\n",
              "      <td>tameka.fisher@aol.com</td>\n",
              "      <td>769C Honey Creek St.</td>\n",
              "      <td>Redondo Beach</td>\n",
              "      <td>CA</td>\n",
              "      <td>90278.0</td>\n",
              "    </tr>\n",
              "    <tr>\n",
              "      <th>3</th>\n",
              "      <td>4</td>\n",
              "      <td>Daryl</td>\n",
              "      <td>Spence</td>\n",
              "      <td>NaN</td>\n",
              "      <td>daryl.spence@aol.com</td>\n",
              "      <td>988 Pearl Lane</td>\n",
              "      <td>Uniondale</td>\n",
              "      <td>NY</td>\n",
              "      <td>11553.0</td>\n",
              "    </tr>\n",
              "    <tr>\n",
              "      <th>4</th>\n",
              "      <td>5</td>\n",
              "      <td>Charolette</td>\n",
              "      <td>Rice</td>\n",
              "      <td>(916) 381-6003</td>\n",
              "      <td>charolette.rice@msn.com</td>\n",
              "      <td>107 River Dr.</td>\n",
              "      <td>Sacramento</td>\n",
              "      <td>CA</td>\n",
              "      <td>95820.0</td>\n",
              "    </tr>\n",
              "    <tr>\n",
              "      <th>...</th>\n",
              "      <td>...</td>\n",
              "      <td>...</td>\n",
              "      <td>...</td>\n",
              "      <td>...</td>\n",
              "      <td>...</td>\n",
              "      <td>...</td>\n",
              "      <td>...</td>\n",
              "      <td>...</td>\n",
              "      <td>...</td>\n",
              "    </tr>\n",
              "    <tr>\n",
              "      <th>1440</th>\n",
              "      <td>1441</td>\n",
              "      <td>Jamaal</td>\n",
              "      <td>Morrison</td>\n",
              "      <td>NaN</td>\n",
              "      <td>jamaal.morrison@msn.com</td>\n",
              "      <td>796 SE. Nut Swamp St.</td>\n",
              "      <td>Staten Island</td>\n",
              "      <td>NY</td>\n",
              "      <td>10301.0</td>\n",
              "    </tr>\n",
              "    <tr>\n",
              "      <th>1441</th>\n",
              "      <td>1442</td>\n",
              "      <td>Cassie</td>\n",
              "      <td>Cline</td>\n",
              "      <td>NaN</td>\n",
              "      <td>cassie.cline@gmail.com</td>\n",
              "      <td>947 Lafayette Drive</td>\n",
              "      <td>Brooklyn</td>\n",
              "      <td>NY</td>\n",
              "      <td>11201.0</td>\n",
              "    </tr>\n",
              "    <tr>\n",
              "      <th>1442</th>\n",
              "      <td>1443</td>\n",
              "      <td>Lezlie</td>\n",
              "      <td>Lamb</td>\n",
              "      <td>NaN</td>\n",
              "      <td>lezlie.lamb@gmail.com</td>\n",
              "      <td>401 Brandywine Street</td>\n",
              "      <td>Central Islip</td>\n",
              "      <td>NY</td>\n",
              "      <td>11722.0</td>\n",
              "    </tr>\n",
              "    <tr>\n",
              "      <th>1443</th>\n",
              "      <td>1444</td>\n",
              "      <td>Ivette</td>\n",
              "      <td>Estes</td>\n",
              "      <td>NaN</td>\n",
              "      <td>ivette.estes@gmail.com</td>\n",
              "      <td>88 N. Canterbury Ave.</td>\n",
              "      <td>Canandaigua</td>\n",
              "      <td>NY</td>\n",
              "      <td>14424.0</td>\n",
              "    </tr>\n",
              "    <tr>\n",
              "      <th>1444</th>\n",
              "      <td>1445</td>\n",
              "      <td>Ester</td>\n",
              "      <td>Acevedo</td>\n",
              "      <td>NaN</td>\n",
              "      <td>ester.acevedo@gmail.com</td>\n",
              "      <td>671 Miles Court</td>\n",
              "      <td>San Lorenzo</td>\n",
              "      <td>CA</td>\n",
              "      <td>94580.0</td>\n",
              "    </tr>\n",
              "  </tbody>\n",
              "</table>\n",
              "<p>1445 rows × 9 columns</p>\n",
              "</div>\n",
              "      <button class=\"colab-df-convert\" onclick=\"convertToInteractive('df-3c8c7415-09fa-416d-bf30-ad1242e0c8dd')\"\n",
              "              title=\"Convert this dataframe to an interactive table.\"\n",
              "              style=\"display:none;\">\n",
              "        \n",
              "  <svg xmlns=\"http://www.w3.org/2000/svg\" height=\"24px\"viewBox=\"0 0 24 24\"\n",
              "       width=\"24px\">\n",
              "    <path d=\"M0 0h24v24H0V0z\" fill=\"none\"/>\n",
              "    <path d=\"M18.56 5.44l.94 2.06.94-2.06 2.06-.94-2.06-.94-.94-2.06-.94 2.06-2.06.94zm-11 1L8.5 8.5l.94-2.06 2.06-.94-2.06-.94L8.5 2.5l-.94 2.06-2.06.94zm10 10l.94 2.06.94-2.06 2.06-.94-2.06-.94-.94-2.06-.94 2.06-2.06.94z\"/><path d=\"M17.41 7.96l-1.37-1.37c-.4-.4-.92-.59-1.43-.59-.52 0-1.04.2-1.43.59L10.3 9.45l-7.72 7.72c-.78.78-.78 2.05 0 2.83L4 21.41c.39.39.9.59 1.41.59.51 0 1.02-.2 1.41-.59l7.78-7.78 2.81-2.81c.8-.78.8-2.07 0-2.86zM5.41 20L4 18.59l7.72-7.72 1.47 1.35L5.41 20z\"/>\n",
              "  </svg>\n",
              "      </button>\n",
              "      \n",
              "  <style>\n",
              "    .colab-df-container {\n",
              "      display:flex;\n",
              "      flex-wrap:wrap;\n",
              "      gap: 12px;\n",
              "    }\n",
              "\n",
              "    .colab-df-convert {\n",
              "      background-color: #E8F0FE;\n",
              "      border: none;\n",
              "      border-radius: 50%;\n",
              "      cursor: pointer;\n",
              "      display: none;\n",
              "      fill: #1967D2;\n",
              "      height: 32px;\n",
              "      padding: 0 0 0 0;\n",
              "      width: 32px;\n",
              "    }\n",
              "\n",
              "    .colab-df-convert:hover {\n",
              "      background-color: #E2EBFA;\n",
              "      box-shadow: 0px 1px 2px rgba(60, 64, 67, 0.3), 0px 1px 3px 1px rgba(60, 64, 67, 0.15);\n",
              "      fill: #174EA6;\n",
              "    }\n",
              "\n",
              "    [theme=dark] .colab-df-convert {\n",
              "      background-color: #3B4455;\n",
              "      fill: #D2E3FC;\n",
              "    }\n",
              "\n",
              "    [theme=dark] .colab-df-convert:hover {\n",
              "      background-color: #434B5C;\n",
              "      box-shadow: 0px 1px 3px 1px rgba(0, 0, 0, 0.15);\n",
              "      filter: drop-shadow(0px 1px 2px rgba(0, 0, 0, 0.3));\n",
              "      fill: #FFFFFF;\n",
              "    }\n",
              "  </style>\n",
              "\n",
              "      <script>\n",
              "        const buttonEl =\n",
              "          document.querySelector('#df-3c8c7415-09fa-416d-bf30-ad1242e0c8dd button.colab-df-convert');\n",
              "        buttonEl.style.display =\n",
              "          google.colab.kernel.accessAllowed ? 'block' : 'none';\n",
              "\n",
              "        async function convertToInteractive(key) {\n",
              "          const element = document.querySelector('#df-3c8c7415-09fa-416d-bf30-ad1242e0c8dd');\n",
              "          const dataTable =\n",
              "            await google.colab.kernel.invokeFunction('convertToInteractive',\n",
              "                                                     [key], {});\n",
              "          if (!dataTable) return;\n",
              "\n",
              "          const docLinkHtml = 'Like what you see? Visit the ' +\n",
              "            '<a target=\"_blank\" href=https://colab.research.google.com/notebooks/data_table.ipynb>data table notebook</a>'\n",
              "            + ' to learn more about interactive tables.';\n",
              "          element.innerHTML = '';\n",
              "          dataTable['output_type'] = 'display_data';\n",
              "          await google.colab.output.renderOutput(dataTable, element);\n",
              "          const docLink = document.createElement('div');\n",
              "          docLink.innerHTML = docLinkHtml;\n",
              "          element.appendChild(docLink);\n",
              "        }\n",
              "      </script>\n",
              "    </div>\n",
              "  </div>\n",
              "  "
            ]
          },
          "metadata": {},
          "execution_count": 3
        }
      ]
    },
    {
      "cell_type": "markdown",
      "source": [
        "1. tutte le informazioni su un cliente di cui si inserisce il nome e il cognome"
      ],
      "metadata": {
        "id": "Y_tWbamVoa2Z"
      }
    },
    {
      "cell_type": "code",
      "source": [
        "nome = input(\"inserisci il nome del cliente:\")\n",
        "cognome = input(\"inserisci il cognome del cliente:\")\n",
        "df[(df[\"first_name\"] == nome.capitalize()) & (df[\"last_name\"] == cognome.capitalize())]"
      ],
      "metadata": {
        "id": "1rFv1COjodQz"
      },
      "execution_count": null,
      "outputs": []
    },
    {
      "cell_type": "markdown",
      "source": [
        "2. l'elenco dei clienti che risiedono in una certa città inserita dall'utente"
      ],
      "metadata": {
        "id": "XP3_KGE8o661"
      }
    },
    {
      "cell_type": "code",
      "source": [
        "citta = input(\"inserisci il nome di un città:\")\n",
        "df[df[\"city\"] == citta.capitalize()]"
      ],
      "metadata": {
        "id": "Edhn_4XOo9KE"
      },
      "execution_count": null,
      "outputs": []
    },
    {
      "cell_type": "markdown",
      "source": [
        "3.  il numero di clienti per ogni stato. "
      ],
      "metadata": {
        "id": "FWo4IesQpRhK"
      }
    },
    {
      "cell_type": "code",
      "source": [
        "stati = df.groupby(\"state\").count()[[\"first_name\"]].sort_values(by=\"first_name\").reset_index()\n",
        "stati"
      ],
      "metadata": {
        "id": "Ia0Q4WZSpTgU"
      },
      "execution_count": null,
      "outputs": []
    },
    {
      "cell_type": "markdown",
      "source": [
        "4. lo stato con il maggior numero di clienti"
      ],
      "metadata": {
        "id": "qNe_2TKFpjx1"
      }
    },
    {
      "cell_type": "code",
      "source": [
        "stati[stati[\"first_name\"] == stati[\"first_name\"].max()][[\"state\"]]"
      ],
      "metadata": {
        "id": "iFE1M5zgpmSu"
      },
      "execution_count": null,
      "outputs": []
    },
    {
      "cell_type": "markdown",
      "source": [
        "5. tre grafici (a barre orizzontali, a barre verticali, a torta) che rappresentano il numero di clienti per ogni stato"
      ],
      "metadata": {
        "id": "DZ_kj82yp1dS"
      }
    },
    {
      "cell_type": "code",
      "source": [
        "import matplotlib.pyplot as plt"
      ],
      "metadata": {
        "id": "KLbLvUz8qNZb"
      },
      "execution_count": null,
      "outputs": []
    },
    {
      "cell_type": "code",
      "source": [
        "stringhe = stati[\"state\"]\n",
        "dati = stati[\"first_name\"]\n",
        "fig, ax = plt.subplots(figsize=(15,8))\n",
        "ax.bar(stringhe, dati, label='numero di clienti')\n",
        "ax.set_title(\"numero di clienti per ogni stato\")\n",
        "ax.set_xlabel(\"stati\")\n",
        "ax.set_ylabel(\"numero clienti\")"
      ],
      "metadata": {
        "id": "ayMCiEDPp376"
      },
      "execution_count": null,
      "outputs": []
    },
    {
      "cell_type": "code",
      "source": [
        "stringhe = stati[\"state\"]\n",
        "dati = stati[\"first_name\"]\n",
        "fig, ax = plt.subplots(figsize=(15,8))\n",
        "ax.barh(stringhe, dati, label='numero di clienti')\n",
        "ax.set_title(\"numero di clienti per ogni stato\")\n",
        "ax.set_xlabel(\"numero clienti\")\n",
        "ax.set_ylabel(\"sati\")"
      ],
      "metadata": {
        "id": "wKbdFAnBrBHy"
      },
      "execution_count": null,
      "outputs": []
    },
    {
      "cell_type": "code",
      "source": [
        "stringhe = stati[\"state\"]\n",
        "dati = stati[\"first_name\"]\n",
        "plt.figure(figsize=(16, 8))\n",
        "plt.pie(dati, labels=stringhe, autopct='%1.1f%%')\n",
        "plt.show()"
      ],
      "metadata": {
        "id": "FdLMmUEarPep"
      },
      "execution_count": null,
      "outputs": []
    },
    {
      "cell_type": "markdown",
      "source": [
        "6. il nome, il cognome e il telefono dei clienti di cui non si conosce la mail"
      ],
      "metadata": {
        "id": "ht7ZOSPArdnw"
      }
    },
    {
      "cell_type": "code",
      "source": [
        "df[df['email'].isnull()][[\"first_name\", \"last_name\", \"phone\"]]"
      ],
      "metadata": {
        "id": "aqg_vEQErhJ3"
      },
      "execution_count": null,
      "outputs": []
    },
    {
      "cell_type": "markdown",
      "source": [
        "7.  il nome e il cognome dei clienti che hanno la mail di un particolare provider inserito dall'utente (esempio google.com)"
      ],
      "metadata": {
        "id": "8W02evKPru7j"
      }
    },
    {
      "cell_type": "code",
      "source": [
        "provider = input(\"inserisci il provider (es: @gmail.com): \")\n",
        "df[df[\"email\"].str.contains(provider, na = False)][[\"first_name\", \"last_name\"]]   #na = False: non tiene conto di valori nulli (punti, chiocciole...)"
      ],
      "metadata": {
        "id": "4NiPbzF0rxay"
      },
      "execution_count": null,
      "outputs": []
    }
  ]
}