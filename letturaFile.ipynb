{
  "nbformat": 4,
  "nbformat_minor": 0,
  "metadata": {
    "colab": {
      "provenance": []
    },
    "kernelspec": {
      "name": "python3",
      "display_name": "Python 3"
    },
    "language_info": {
      "name": "python"
    }
  },
  "cells": [
    {
      "cell_type": "code",
      "source": [
        "import pandas as pd"
      ],
      "metadata": {
        "id": "7bO4Ko0ARqMM"
      },
      "execution_count": 1,
      "outputs": []
    },
    {
      "cell_type": "code",
      "execution_count": null,
      "metadata": {
        "id": "y46tWSk3Rkq-"
      },
      "outputs": [],
      "source": [
        "#leggere un file csv\n",
        "dfCSV = pd.read_csv(\"nomefile.csv\") #posso sia copiare un link oppure caricare il file su drive e copiarci il percorso"
      ]
    },
    {
      "cell_type": "code",
      "source": [
        "from google.colab import drive\n",
        "drive.mount(\"/content/drive\")"
      ],
      "metadata": {
        "colab": {
          "base_uri": "https://localhost:8080/"
        },
        "id": "WunYoMFlSCrE",
        "outputId": "15ffcb7f-5245-417f-a67d-9d23cc20d521"
      },
      "execution_count": 3,
      "outputs": [
        {
          "output_type": "stream",
          "name": "stdout",
          "text": [
            "Mounted at /content/drive\n"
          ]
        }
      ]
    },
    {
      "cell_type": "code",
      "source": [
        "#leggere un file json\n",
        "dfJSON = pd.read_json(\"nomefile.json\") #posso sia copiare un link oppure caricare il file su drive e copiarci il percorso"
      ],
      "metadata": {
        "id": "c4rtMUvpSbvk"
      },
      "execution_count": null,
      "outputs": []
    },
    {
      "cell_type": "code",
      "source": [
        "#leggere un file excel\n",
        "dfEXCEL = pd.read_excel(\"nomefile.xls O xlsx\", sheet_name=\"nomefoglio\") #posso sia copiare un link oppure caricare il file su drive e copiarci il percorso"
      ],
      "metadata": {
        "id": "WIF9OuxwSkNV"
      },
      "execution_count": null,
      "outputs": []
    }
  ]
}