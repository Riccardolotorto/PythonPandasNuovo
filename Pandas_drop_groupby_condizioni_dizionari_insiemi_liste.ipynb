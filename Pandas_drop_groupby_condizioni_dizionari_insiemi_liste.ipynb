{
  "nbformat": 4,
  "nbformat_minor": 0,
  "metadata": {
    "colab": {
      "provenance": [],
      "authorship_tag": "ABX9TyNYstveIv67HPTtGblet4Uv",
      "include_colab_link": true
    },
    "kernelspec": {
      "name": "python3",
      "display_name": "Python 3"
    },
    "language_info": {
      "name": "python"
    }
  },
  "cells": [
    {
      "cell_type": "markdown",
      "metadata": {
        "id": "view-in-github",
        "colab_type": "text"
      },
      "source": [
        "<a href=\"https://colab.research.google.com/github/Riccardolotorto/PythonPandasNuovo/blob/main/Pandas_drop_groupby_condizioni_dizionari_insiemi_liste.ipynb\" target=\"_parent\"><img src=\"https://colab.research.google.com/assets/colab-badge.svg\" alt=\"Open In Colab\"/></a>"
      ]
    },
    {
      "cell_type": "code",
      "execution_count": 1,
      "metadata": {
        "id": "z8--V7anfLOT"
      },
      "outputs": [],
      "source": [
        "import pandas as pd"
      ]
    },
    {
      "cell_type": "code",
      "source": [
        "df = pd.read_csv(\"https://raw.githubusercontent.com/wtitze/4E/main/prime_titles.csv\")"
      ],
      "metadata": {
        "id": "t1-gAhDXgaPq"
      },
      "execution_count": 2,
      "outputs": []
    },
    {
      "cell_type": "code",
      "source": [
        "df"
      ],
      "metadata": {
        "id": "2dTuAEQhgfhJ"
      },
      "execution_count": null,
      "outputs": []
    },
    {
      "cell_type": "markdown",
      "source": [
        "1. eliminare tutte le righe che non hanno dati"
      ],
      "metadata": {
        "id": "jsi48ylDgh-A"
      }
    },
    {
      "cell_type": "code",
      "source": [
        "df = df.drop(df[df.Language.isnull()].index)"
      ],
      "metadata": {
        "id": "pVsoJchsgmy4"
      },
      "execution_count": 6,
      "outputs": []
    },
    {
      "cell_type": "code",
      "source": [
        "df"
      ],
      "metadata": {
        "id": "TMndGnuzg6c5"
      },
      "execution_count": null,
      "outputs": []
    },
    {
      "cell_type": "markdown",
      "source": [
        "2. creare un dizionario con il numero di film per ogni lingua"
      ],
      "metadata": {
        "id": "WZQC4xbyg8DA"
      }
    },
    {
      "cell_type": "code",
      "source": [
        "dfLingue = df.groupby(\"Language\")[[\"Name of the show\"]].count().sort_values(by=\"Name of the show\", ascending = False).reset_index()\n",
        "dfLingue"
      ],
      "metadata": {
        "id": "7xuQ2JNihnQR"
      },
      "execution_count": null,
      "outputs": []
    },
    {
      "cell_type": "code",
      "source": [
        "dizionarioLingue = dict(zip(dfLingue.Language, dfLingue[\"Name of the show\"]))\n",
        "dizionarioLingue"
      ],
      "metadata": {
        "id": "fwrq3kGKh21K"
      },
      "execution_count": null,
      "outputs": []
    },
    {
      "cell_type": "markdown",
      "source": [
        "3. visualizzare il numero di show per ogni anno"
      ],
      "metadata": {
        "id": "5s-MYirEiIcT"
      }
    },
    {
      "cell_type": "code",
      "source": [
        "dfAnni = df.groupby(\"Year of release\")[[\"Name of the show\"]].count().sort_values(by=\"Name of the show\", ascending = False).reset_index()\n",
        "dfAnni"
      ],
      "metadata": {
        "id": "TmLKUaP9iKz5"
      },
      "execution_count": null,
      "outputs": []
    },
    {
      "cell_type": "markdown",
      "source": [
        "4. contare quante lingue ci sono "
      ],
      "metadata": {
        "id": "p0c4hw7mid1R"
      }
    },
    {
      "cell_type": "code",
      "source": [
        "len(set(df.Language))"
      ],
      "metadata": {
        "id": "NVDVHm_XigSR"
      },
      "execution_count": null,
      "outputs": []
    },
    {
      "cell_type": "markdown",
      "source": [
        "5.  visualizzare gli anni in cui sono stati prodotti più di 50 show"
      ],
      "metadata": {
        "id": "1u58xhXtiir4"
      }
    },
    {
      "cell_type": "code",
      "source": [
        "dfAnni[dfAnni[\"Name of the show\"] > 50][[\"Year of release\"]]"
      ],
      "metadata": {
        "id": "KbznPMhvimTR"
      },
      "execution_count": null,
      "outputs": []
    },
    {
      "cell_type": "markdown",
      "source": [
        "6. visualizzare l'anno in cui sono stati prodotti più show"
      ],
      "metadata": {
        "id": "Le31Bxt5is5I"
      }
    },
    {
      "cell_type": "code",
      "source": [
        "dfAnni[dfAnni[\"Name of the show\"] == dfAnni[\"Name of the show\"].max()][[\"Year of release\"]]"
      ],
      "metadata": {
        "id": "RuHN7QGoiuf5"
      },
      "execution_count": null,
      "outputs": []
    },
    {
      "cell_type": "markdown",
      "source": [
        "7. visualizzare il numero di film drammatici inglesi del 2017"
      ],
      "metadata": {
        "id": "G4LrDNSPizcA"
      }
    },
    {
      "cell_type": "code",
      "source": [
        "len(df[(df[\"Year of release\"] == 2017) & (df[\"Language\"] == \"English\") & (df[\"Genre\"] == \"Drama\")])"
      ],
      "metadata": {
        "id": "Oh75YpM4i2GZ"
      },
      "execution_count": null,
      "outputs": []
    },
    {
      "cell_type": "markdown",
      "source": [
        "8.  visualizzare il rating medio dei film di ogni lingua"
      ],
      "metadata": {
        "id": "IymBGadCjsj6"
      }
    },
    {
      "cell_type": "code",
      "source": [
        "dfRating = df.groupby(\"Language\")[[\"IMDb rating\"]].mean().reset_index().dropna()\n",
        "dfRating"
      ],
      "metadata": {
        "id": "Y1rghenNjuxx"
      },
      "execution_count": null,
      "outputs": []
    }
  ]
}