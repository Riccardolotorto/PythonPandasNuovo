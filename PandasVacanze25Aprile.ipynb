{
  "nbformat": 4,
  "nbformat_minor": 0,
  "metadata": {
    "colab": {
      "provenance": []
    },
    "kernelspec": {
      "name": "python3",
      "display_name": "Python 3"
    },
    "language_info": {
      "name": "python"
    }
  },
  "cells": [
    {
      "cell_type": "code",
      "execution_count": 1,
      "metadata": {
        "id": "mKEFMQEM5apw"
      },
      "outputs": [],
      "source": [
        "import pandas as pd"
      ]
    },
    {
      "cell_type": "code",
      "source": [
        "df = pd.read_csv(\"https://raw.githubusercontent.com/prasertcbs/basic-dataset/master/metacritic_games.csv\")"
      ],
      "metadata": {
        "id": "PlPATxfk5sAs"
      },
      "execution_count": 2,
      "outputs": []
    },
    {
      "cell_type": "code",
      "source": [
        "df"
      ],
      "metadata": {
        "id": "8_jLXube5zVE"
      },
      "execution_count": null,
      "outputs": []
    },
    {
      "cell_type": "markdown",
      "source": [
        "1.  Mostrare tutti i giochi da una piattaforma scelta dall'utente"
      ],
      "metadata": {
        "id": "gKEBDb4o5xX9"
      }
    },
    {
      "cell_type": "code",
      "source": [
        "piattaforma = input(\"inserisci una piattaforma di videogiochi \")\n",
        "df[df[\"platform\"] == piattaforma][[\"game\"]]"
      ],
      "metadata": {
        "id": "IPdCrJlA5zFJ"
      },
      "execution_count": null,
      "outputs": []
    },
    {
      "cell_type": "markdown",
      "source": [
        "2. Mostrare tutti i giochi pubblicati da un anno ad un'altro, Inseriti dell'utente."
      ],
      "metadata": {
        "id": "CXhuTEHK6HqB"
      }
    },
    {
      "cell_type": "code",
      "source": [
        "df['release_date'] = pd.to_datetime(df['release_date'])  #trasforma la colonna di un DataFrame da stringhe in date"
      ],
      "metadata": {
        "id": "NLDN1KPgAVTc"
      },
      "execution_count": null,
      "outputs": []
    },
    {
      "cell_type": "code",
      "source": [
        "df['year'] = pd.DatetimeIndex(df['release_date']).year  #prende solo l'anno di una data"
      ],
      "metadata": {
        "id": "eGyKiHCfA9UC"
      },
      "execution_count": 39,
      "outputs": []
    },
    {
      "cell_type": "code",
      "source": [
        "inzio = int(input(\"inserisci un anno di partenza \"))\n",
        "fine = int(input(\"inserisci un anno di fine \"))\n",
        "df[(df[\"year\"] >= inzio) & (df[\"year\"] <= fine)][[\"game\"]]"
      ],
      "metadata": {
        "id": "FnX2W7P16Kpx"
      },
      "execution_count": null,
      "outputs": []
    },
    {
      "cell_type": "markdown",
      "source": [
        "3. Visualizzare il gioco con la somma del metascore e dell'user score più alto."
      ],
      "metadata": {
        "id": "2y9qTdGA7oz-"
      }
    },
    {
      "cell_type": "code",
      "source": [
        "df['total_score'] = df['metascore'] + df['user_score']"
      ],
      "metadata": {
        "id": "vHLkEAVN7qhB"
      },
      "execution_count": 17,
      "outputs": []
    },
    {
      "cell_type": "code",
      "source": [
        "df[df[\"total_score\"] == df[\"total_score\"].max()][[\"game\"]]"
      ],
      "metadata": {
        "id": "NWoioG_G8KOq"
      },
      "execution_count": null,
      "outputs": []
    },
    {
      "cell_type": "markdown",
      "source": [
        "4. Il numero di giochi per ogni piattaforma."
      ],
      "metadata": {
        "id": "yNdIbkED8Wxr"
      }
    },
    {
      "cell_type": "code",
      "source": [
        "dfGiochi = df.groupby(\"platform\").count()[[\"game\"]].sort_values(by=\"game\", ascending = False).reset_index()\n",
        "dfGiochi"
      ],
      "metadata": {
        "id": "CMjCtGS_8YyB"
      },
      "execution_count": null,
      "outputs": []
    },
    {
      "cell_type": "markdown",
      "source": [
        "5. Le piattaforme che hanno più di un certo numero di giochi, inserito dall'utente"
      ],
      "metadata": {
        "id": "xJ3ziw0G8o4Z"
      }
    },
    {
      "cell_type": "code",
      "source": [
        "numero = int(input(\"inserisci un numero di giochi \"))\n",
        "dfGiochi[dfGiochi[\"game\"] > numero][[\"platform\"]]"
      ],
      "metadata": {
        "id": "Xu4vsxhk8rU8"
      },
      "execution_count": null,
      "outputs": []
    },
    {
      "cell_type": "markdown",
      "source": [
        "6. Visualizzare due grafici (a torta e treemap) che rappresentano il numero di giochi per ogni piattaforma"
      ],
      "metadata": {
        "id": "8vViCpBR9IYz"
      }
    },
    {
      "cell_type": "code",
      "source": [
        "!pip install squarify"
      ],
      "metadata": {
        "id": "DAHSk9zb-Cdi"
      },
      "execution_count": null,
      "outputs": []
    },
    {
      "cell_type": "code",
      "source": [
        "import matplotlib.pyplot as plt\n",
        "import squarify"
      ],
      "metadata": {
        "id": "nkVYI7HJ9L-z"
      },
      "execution_count": 27,
      "outputs": []
    },
    {
      "cell_type": "code",
      "source": [
        "dati = dfGiochi[\"game\"]\n",
        "strighe = dfGiochi[\"platform\"]\n",
        "plt.figure(figsize=(14, 10))\n",
        "plt.pie(dati, labels=strighe, autopct='%1.1f%%') \n",
        "plt.show()"
      ],
      "metadata": {
        "id": "eK-TMY2T9QwC"
      },
      "execution_count": null,
      "outputs": []
    },
    {
      "cell_type": "code",
      "source": [
        "colors = ['#91DCEA', '#64CDCC', '#5FBB68', '#F9D23C', '#F9A729', '#FD6F30']\n",
        "squarify.plot(sizes = dati, label = strighe, color = colors, alpha=.8)\n",
        "plt.axis('off')\n",
        "plt.show()"
      ],
      "metadata": {
        "id": "7fnd-8fK9poN"
      },
      "execution_count": null,
      "outputs": []
    },
    {
      "cell_type": "markdown",
      "source": [
        "7. Visualizzare i giochi di un genere e una piattaforma scelta dall'utente"
      ],
      "metadata": {
        "id": "iCdkT6hQ-mpl"
      }
    },
    {
      "cell_type": "code",
      "source": [
        "piatt = input(\"inserisci una piattaforma \")\n",
        "genere = input(\"inserisci un genere \")\n",
        "df[(df[\"platform\"] == piatt.upper()) & (df[\"genre\"] == genere.capitalize())][[\"game\"]]"
      ],
      "metadata": {
        "id": "xULHEpKg-sO0"
      },
      "execution_count": null,
      "outputs": []
    },
    {
      "cell_type": "markdown",
      "source": [
        "8.  Visualizza la percentuale di giochi per genere per ogni piattaforma"
      ],
      "metadata": {
        "id": "bqRMADyI_Udp"
      }
    },
    {
      "cell_type": "code",
      "source": [
        "dfP = df.groupby([\"genre\", \"platform\"]).count()[[\"game\"]].sort_values(by=\"game\", ascending = False).reset_index()"
      ],
      "metadata": {
        "id": "ZTwME75c_Wcq"
      },
      "execution_count": 48,
      "outputs": []
    },
    {
      "cell_type": "code",
      "source": [
        "dfP['percentuale'] = (dfP[\"game\"] / dfP[\"game\"].sum()) * 100"
      ],
      "metadata": {
        "id": "ljpGqGfBEKgl"
      },
      "execution_count": 57,
      "outputs": []
    },
    {
      "cell_type": "code",
      "source": [
        "dfP"
      ],
      "metadata": {
        "id": "3lsdji7yFOAK"
      },
      "execution_count": null,
      "outputs": []
    },
    {
      "cell_type": "markdown",
      "source": [
        "9. Visualizzare un grafico a torta che rappresenti i dati dell'esercizio 8"
      ],
      "metadata": {
        "id": "hv_gS_YRF5aI"
      }
    },
    {
      "cell_type": "code",
      "source": [
        "dati2 = dfP[\"percentuale\"]\n",
        "strighe2 = dfP[\"platform\"] + \"/\" + dfP[\"genre\"]\n",
        "plt.figure(figsize=(20, 19))\n",
        "plt.pie(dati2, labels=strighe2, autopct='%1.1f%%') \n",
        "plt.show()"
      ],
      "metadata": {
        "id": "MdtQCKqwF7pz"
      },
      "execution_count": null,
      "outputs": []
    }
  ]
}