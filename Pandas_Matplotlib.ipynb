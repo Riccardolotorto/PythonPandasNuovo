{
  "nbformat": 4,
  "nbformat_minor": 0,
  "metadata": {
    "colab": {
      "provenance": [],
      "authorship_tag": "ABX9TyN4a3xwdBTdrJ8L6oW4XScJ",
      "include_colab_link": true
    },
    "kernelspec": {
      "name": "python3",
      "display_name": "Python 3"
    },
    "language_info": {
      "name": "python"
    }
  },
  "cells": [
    {
      "cell_type": "markdown",
      "metadata": {
        "id": "view-in-github",
        "colab_type": "text"
      },
      "source": [
        "<a href=\"https://colab.research.google.com/github/Riccardolotorto/PythonPandasNuovo/blob/main/Pandas_Matplotlib.ipynb\" target=\"_parent\"><img src=\"https://colab.research.google.com/assets/colab-badge.svg\" alt=\"Open In Colab\"/></a>"
      ]
    },
    {
      "cell_type": "code",
      "execution_count": 1,
      "metadata": {
        "id": "RpiazgTEW4UW"
      },
      "outputs": [],
      "source": [
        "import pandas as pd"
      ]
    },
    {
      "cell_type": "code",
      "source": [
        "df = pd.read_csv(\"https://raw.githubusercontent.com/italia/covid19-opendata-vaccini/master/dati/platea.csv\")"
      ],
      "metadata": {
        "id": "astXOoD4XAE4"
      },
      "execution_count": 2,
      "outputs": []
    },
    {
      "cell_type": "code",
      "source": [
        "df"
      ],
      "metadata": {
        "id": "LzrMKpBrXIEp"
      },
      "execution_count": null,
      "outputs": []
    },
    {
      "cell_type": "markdown",
      "source": [
        "1. il numero di record presente nel file"
      ],
      "metadata": {
        "id": "_6ehikfrXFBp"
      }
    },
    {
      "cell_type": "code",
      "source": [
        "len(df)"
      ],
      "metadata": {
        "id": "8ELV7nM8XG0R"
      },
      "execution_count": null,
      "outputs": []
    },
    {
      "cell_type": "markdown",
      "source": [
        "2. il numero di regioni presente nel file"
      ],
      "metadata": {
        "id": "DOxU1GrtXNYg"
      }
    },
    {
      "cell_type": "code",
      "source": [
        "len(set(df.reg))"
      ],
      "metadata": {
        "id": "k8kT4yc3XPKh"
      },
      "execution_count": null,
      "outputs": []
    },
    {
      "cell_type": "markdown",
      "source": [
        "3. il numero di abitanti di ogni regione. Ordinare in ordine decrescente sul numero di abitanti"
      ],
      "metadata": {
        "id": "XqQQyj5OXX_H"
      }
    },
    {
      "cell_type": "code",
      "source": [
        "dfPopolazioni = df.groupby(\"reg\")[[\"totale_popolazione\"]].sum().sort_values(by=\"totale_popolazione\", ascending = False).reset_index()\n",
        "dfPopolazioni"
      ],
      "metadata": {
        "id": "25iElMOVXaig"
      },
      "execution_count": null,
      "outputs": []
    },
    {
      "cell_type": "markdown",
      "source": [
        "4.  la regione con il numero di abitanti più alto"
      ],
      "metadata": {
        "id": "_ll8iEFWX77F"
      }
    },
    {
      "cell_type": "code",
      "source": [
        "dfPopolazioni[dfPopolazioni[\"totale_popolazione\"] == dfPopolazioni[\"totale_popolazione\"].max()][[\"reg\"]]"
      ],
      "metadata": {
        "id": "uqqjKttEX9e9"
      },
      "execution_count": null,
      "outputs": []
    },
    {
      "cell_type": "markdown",
      "source": [
        "5. il numero medio di abitanti delle regioni"
      ],
      "metadata": {
        "id": "eEM1ERJHYLTV"
      }
    },
    {
      "cell_type": "code",
      "source": [
        "media = int(dfPopolazioni.totale_popolazione.mean())\n",
        "media"
      ],
      "metadata": {
        "id": "QcW3ysY-YOvb"
      },
      "execution_count": null,
      "outputs": []
    },
    {
      "cell_type": "markdown",
      "source": [
        "6.  le regioni che hanno più abitanti della media degli abitanti delle regioni"
      ],
      "metadata": {
        "id": "I07m-FKjY5Wr"
      }
    },
    {
      "cell_type": "code",
      "source": [
        "dfPopolazioni[dfPopolazioni[\"totale_popolazione\"] > media][[\"reg\"]]"
      ],
      "metadata": {
        "id": "jYdwoIS-Y7gb"
      },
      "execution_count": null,
      "outputs": []
    },
    {
      "cell_type": "markdown",
      "source": [
        "7.  la regione che ha più abitanti nella fascia 12-19"
      ],
      "metadata": {
        "id": "aN2gaobQZUDL"
      }
    },
    {
      "cell_type": "code",
      "source": [
        "df1219 = df[df.eta == \"12-19\"].groupby(\"reg\")[[\"totale_popolazione\"]].sum().sort_values(by=\"totale_popolazione\", ascending = False).reset_index() #faccio un groupby solo di alcune righe del dataframe\n",
        "df1219[df1219.totale_popolazione == df1219.totale_popolazione.max()][[\"reg\"]]"
      ],
      "metadata": {
        "id": "BRNHUaZGZWWD"
      },
      "execution_count": null,
      "outputs": []
    },
    {
      "cell_type": "markdown",
      "source": [
        "8.  il numero di abitanti per ogni fascia d'età"
      ],
      "metadata": {
        "id": "ae_dZHySac-_"
      }
    },
    {
      "cell_type": "code",
      "source": [
        "dfEta = df.groupby(\"eta\")[[\"totale_popolazione\"]].sum().sort_values(by = \"totale_popolazione\", ascending = False).reset_index()\n",
        "dfEta"
      ],
      "metadata": {
        "id": "yayda6KbakIl"
      },
      "execution_count": null,
      "outputs": []
    },
    {
      "cell_type": "markdown",
      "source": [
        "9. la fascia d'età con più abitanti"
      ],
      "metadata": {
        "id": "Wi3bAnBaa6nb"
      }
    },
    {
      "cell_type": "code",
      "source": [
        "dfEta[dfEta.totale_popolazione == dfEta.totale_popolazione.max()][[\"eta\"]]"
      ],
      "metadata": {
        "id": "mVUtbkEGa8kK"
      },
      "execution_count": null,
      "outputs": []
    },
    {
      "cell_type": "markdown",
      "source": [
        "10.  un grafico a barre orizzontali per l'esercizio 3"
      ],
      "metadata": {
        "id": "BMPMIdO7bKyR"
      }
    },
    {
      "cell_type": "code",
      "source": [
        "import matplotlib.pyplot as plt"
      ],
      "metadata": {
        "id": "5LvjpjfxbMnq"
      },
      "execution_count": 28,
      "outputs": []
    },
    {
      "cell_type": "code",
      "source": [
        "stringhe = dfPopolazioni.reg\n",
        "dati = dfPopolazioni.totale_popolazione"
      ],
      "metadata": {
        "id": "V-vDSevEbnxR"
      },
      "execution_count": 30,
      "outputs": []
    },
    {
      "cell_type": "code",
      "source": [
        "fig, ax = plt.subplots(figsize=(15,8))\n",
        "ax.barh(stringhe, dati, label='totale abitanti per regione', color = [\"red\", \"blue\", \"green\", \"yellow\", \"black\"])\n",
        "ax.set_ylabel('regioni')\n",
        "ax.set_xlabel('abitanti (in milioni)')\n",
        "ax.set_title('totale abitanti per regione')\n",
        "ax.legend()"
      ],
      "metadata": {
        "id": "KpD1vOgWbmdZ"
      },
      "execution_count": null,
      "outputs": []
    },
    {
      "cell_type": "markdown",
      "source": [
        "11. un grafico a barre verticali per l'esercizio 8"
      ],
      "metadata": {
        "id": "aZK-rICvcv2q"
      }
    },
    {
      "cell_type": "code",
      "source": [
        "stringhe2 = dfEta.eta\n",
        "dati2 = dfEta.totale_popolazione"
      ],
      "metadata": {
        "id": "XF3V_i9Uc6pq"
      },
      "execution_count": 32,
      "outputs": []
    },
    {
      "cell_type": "code",
      "source": [
        "fig, ax = plt.subplots(figsize=(15,8))\n",
        "ax.bar(stringhe2, dati2, label='totale abitanti per fascia eta', color = [\"red\", \"blue\", \"green\", \"yellow\", \"black\"])\n",
        "ax.set_ylabel('abitanti (in milioni)')\n",
        "ax.set_xlabel('eta')\n",
        "ax.set_title('totale abitanti per eta')\n",
        "ax.legend()"
      ],
      "metadata": {
        "id": "m9moXiRDcx-s"
      },
      "execution_count": null,
      "outputs": []
    },
    {
      "cell_type": "markdown",
      "source": [
        "12. un grafico a torta per l'esercizio 3 che riporti le percentuali"
      ],
      "metadata": {
        "id": "KJHW8BqddM_J"
      }
    },
    {
      "cell_type": "code",
      "source": [
        "plt.figure(figsize=(16, 8))\n",
        "plt.pie(dati, labels=stringhe, autopct='%1.1f%%')\n",
        "plt.show()"
      ],
      "metadata": {
        "id": "e9nZrtESdPcB"
      },
      "execution_count": null,
      "outputs": []
    }
  ]
}