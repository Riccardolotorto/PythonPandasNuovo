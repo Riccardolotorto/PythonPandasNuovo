{
  "nbformat": 4,
  "nbformat_minor": 0,
  "metadata": {
    "colab": {
      "provenance": []
    },
    "kernelspec": {
      "name": "python3",
      "display_name": "Python 3"
    },
    "language_info": {
      "name": "python"
    }
  },
  "cells": [
    {
      "cell_type": "code",
      "execution_count": 2,
      "metadata": {
        "id": "AGghmzgEQIrA"
      },
      "outputs": [],
      "source": [
        "import pandas as pd"
      ]
    },
    {
      "cell_type": "code",
      "source": [
        "df = pd.read_excel(\"https://github.com/tommella90/milano-housing-price/blob/main/milano_housing_02_2_23.xlsx?raw=true\")"
      ],
      "metadata": {
        "id": "-4i_nNwFQWa-"
      },
      "execution_count": 3,
      "outputs": []
    },
    {
      "cell_type": "markdown",
      "source": [
        "1. avere l'elenco degli appartamenti in vendita in un certo quartiere inserito dall'utente. Visualizzare gli appartamenti in ordine di data"
      ],
      "metadata": {
        "id": "-MtHbJtiQpbV"
      }
    },
    {
      "cell_type": "code",
      "source": [
        "#0.5 punti"
      ],
      "metadata": {
        "id": "6wGRNDrHmLZs"
      },
      "execution_count": null,
      "outputs": []
    },
    {
      "cell_type": "code",
      "source": [
        "quartiere = input(\"inserisci il nome di un quartiere: \")\n",
        "df[df[\"neighborhood\"].str.contains(quartiere, na = False)]"
      ],
      "metadata": {
        "id": "6d1P8rWNQr8m"
      },
      "execution_count": null,
      "outputs": []
    },
    {
      "cell_type": "markdown",
      "source": [
        "2. avere l'elenco dei quartieri presenti nel dataset. Visualizzare l'elenco in ordine alfabetico senza ripetizioni (estrarre tutti i quartieri e poi usare i metodi delle liste/tuple/insiemi/dizionari per eliminare i doppioni)"
      ],
      "metadata": {
        "id": "39q0uxCaRSEI"
      }
    },
    {
      "cell_type": "code",
      "source": [
        "#0.5 punti"
      ],
      "metadata": {
        "id": "3EO-A6Z8mNv8"
      },
      "execution_count": null,
      "outputs": []
    },
    {
      "cell_type": "code",
      "source": [
        "quartieri = list(set(df[\"neighborhood\"].dropna()))\n",
        "quartieri.sort()\n",
        "print(quartieri)"
      ],
      "metadata": {
        "id": "u1pk7WGdRUQF",
        "colab": {
          "base_uri": "https://localhost:8080/"
        },
        "outputId": "06dc10a5-a8de-4b4d-c7b3-51c634ba7267"
      },
      "execution_count": 5,
      "outputs": [
        {
          "output_type": "stream",
          "name": "stdout",
          "text": [
            "['affori', 'amendola - buonarroti', 'arco della pace', 'arena', 'argonne - corsica', 'ascanio sforza', 'baggio', 'bande nere', 'barona', 'bicocca', 'bignami - ponale', 'bisceglie', 'bocconi', 'bologna - sulmona', 'borgogna - largo augusto', 'bovisa', 'bovisasca', 'brera', 'bruzzano', 'buenos aires', \"ca' granda\", 'cadore', 'cadorna - castello', 'cantalupa - san paolo', 'carrobbio', 'cascina dei pomi', 'cascina merlata - musocco', 'casoretto', 'cenisio', 'centrale', 'cermenate - abbiategrasso', 'certosa', 'chiesa rossa', 'cimiano', 'città studi', 'city life', 'comasina', 'corso genova', 'corso san gottardo', 'corvetto', 'crescenzago', 'de angeli', 'dergano', 'dezza', 'duomo', 'famagosta', 'farini', 'figino', 'frua', 'gallaratese', 'gambara', 'garibaldi - corso como', 'ghisolfa - mac mahon', 'giambellino', 'gorla', 'gratosoglio', 'greco - segnano', 'guastalla', 'indipendenza', 'inganni', 'isola', 'istria', 'lambrate', 'lanza', 'lodi - brenta', 'lorenteggio', 'maggiolina', 'martini - insubria', 'melchiorre gioia', 'missori', 'molise - cuoco', 'monte rosa - lotto', 'monte stella', 'montenero', 'morgagni', 'moscova', 'muggiano', 'navigli - darsena', 'niguarda', 'ortica', 'pagano', 'palestro', 'paolo sarpi', 'parco lambro', 'parco trotter', 'pasteur', 'pezzotti - meda', 'piave - tricolore', 'piazza napoli', 'piazzale siena', 'plebisciti - susa', 'ponte lambro', 'ponte nuovo', 'porta nuova', \"porta romana - medaglie d'oro\", 'porta venezia', 'porta vittoria', 'portello - parco vittoria', 'prato centenaro', 'precotto', 'primaticcio', 'qt8', 'quadrilatero della moda', 'quadronno - crocetta', 'quartiere adriano', 'quartiere feltre', 'quartiere forlanini', 'quartiere olmi', 'quarto cagnino', 'quarto oggiaro', 'quinto romano', 'quintosole - chiaravalle', 'repubblica', 'ripamonti', 'rogoredo', 'roserio', 'rovereto', 'rubattino', 'san babila', 'san carlo', 'san siro', 'san vittore', \"sant'ambrogio\", 'santa giulia', 'scala - manzoni', 'sempione', 'solari', 'ticinese', 'tre castelli - faenza', 'trenno', 'tripoli - soderini', 'turati', 'turro', 'udine', 'vercelli - wagner', 'via dei ciclamini 11', 'via giuseppina lazzaroni', 'via valsesia', 'vialba', 'viale ungheria - mecenate', 'vigentino - fatima', 'villa san giovanni', 'vincenzo monti', 'washington', 'zara']\n"
          ]
        }
      ]
    },
    {
      "cell_type": "markdown",
      "source": [
        "3. 3. avere l'elenco dei quartieri presenti nel dataset. Visualizzare l'elenco in ordine alfabetico senza ripetizioni (usare i metodi di pandas per eliminare i doppioni)"
      ],
      "metadata": {
        "id": "6olE_6Q6SgU1"
      }
    },
    {
      "cell_type": "code",
      "source": [
        "#0.5 punti "
      ],
      "metadata": {
        "id": "yafW3k07mSOD"
      },
      "execution_count": null,
      "outputs": []
    },
    {
      "cell_type": "code",
      "source": [
        "df[[\"neighborhood\"]].drop_duplicates().sort_values(by=\"neighborhood\").dropna()"
      ],
      "metadata": {
        "id": "sv6LWUL1SkfF"
      },
      "execution_count": null,
      "outputs": []
    },
    {
      "cell_type": "code",
      "source": [
        "df2 = sorted(df[\"neighborhood\"].dropna().unique())  #unique: rimuove duplicati\n",
        "df2"
      ],
      "metadata": {
        "id": "FmvcrGS4xqv4"
      },
      "execution_count": null,
      "outputs": []
    },
    {
      "cell_type": "markdown",
      "source": [
        "4. visualizzare il prezzo medio di una zona di Milano inserita dall'utente"
      ],
      "metadata": {
        "id": "NjMjSuf3UeF9"
      }
    },
    {
      "cell_type": "code",
      "source": [
        "#0.5 punti"
      ],
      "metadata": {
        "id": "9adUJH30m4M7"
      },
      "execution_count": null,
      "outputs": []
    },
    {
      "cell_type": "code",
      "source": [
        "zona = input(\"inserisci una zona: \")\n",
        "dfZona = int(df[df[\"neighborhood\"] == zona][[\"price\"]].mean())\n",
        "dfZona"
      ],
      "metadata": {
        "id": "yQv9_QlIUgK1"
      },
      "execution_count": null,
      "outputs": []
    },
    {
      "cell_type": "markdown",
      "source": [
        "5. visualizzare il prezzo medio di ogni quartiere di Milano. Ordinare i risultati in ordine decrescente sul prezzo medio"
      ],
      "metadata": {
        "id": "-fGW-6CfW9mP"
      }
    },
    {
      "cell_type": "code",
      "source": [
        "#1 punto"
      ],
      "metadata": {
        "id": "q3LDLm6km7ya"
      },
      "execution_count": null,
      "outputs": []
    },
    {
      "cell_type": "code",
      "source": [
        "dfMedia = df.groupby(\"neighborhood\")[[\"price\"]].mean().sort_values(by = \"price\", ascending = False).reset_index().dropna()\n",
        "dfMedia"
      ],
      "metadata": {
        "id": "Hskzy5LhXAfu"
      },
      "execution_count": null,
      "outputs": []
    },
    {
      "cell_type": "markdown",
      "source": [
        "6. scrivere una funzione che converta un prezzo in euro in un'altra valuta. La funzione ha due parametri: il prezzo in euro e il tasso di conversione euro-altra valuta. Utilizzare questa funzione per modificare l'esercizio 5 facendo inserire all'utente il tasso di conversione e visualizzando i risultati nella nuova valuta."
      ],
      "metadata": {
        "id": "J4zumX9VaI7W"
      }
    },
    {
      "cell_type": "code",
      "source": [
        "#0.5 punti "
      ],
      "metadata": {
        "id": "mYQMRoy4m835"
      },
      "execution_count": null,
      "outputs": []
    },
    {
      "cell_type": "code",
      "source": [
        "def convertitore(euro, tasso): \n",
        "  return euro * tasso\n",
        "\n",
        "tasso = float(input(\"inserisci un tasso di conversione: \"))\n",
        "dfMedia[\"mediaConvertito\"] = convertitore(dfMedia[\"price\"], tasso)\n",
        "dfMedia"
      ],
      "metadata": {
        "id": "GiX-rnZ8aJhm"
      },
      "execution_count": null,
      "outputs": []
    }
  ]
}