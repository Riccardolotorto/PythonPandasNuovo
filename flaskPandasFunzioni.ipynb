{
  "nbformat": 4,
  "nbformat_minor": 0,
  "metadata": {
    "colab": {
      "provenance": []
    },
    "kernelspec": {
      "name": "python3",
      "display_name": "Python 3"
    },
    "language_info": {
      "name": "python"
    }
  },
  "cells": [
    {
      "cell_type": "code",
      "execution_count": null,
      "metadata": {
        "id": "AGghmzgEQIrA"
      },
      "outputs": [],
      "source": [
        "import pandas as pd"
      ]
    },
    {
      "cell_type": "code",
      "source": [
        "df = pd.read_excel(\"https://github.com/tommella90/milano-housing-price/blob/main/milano_housing_02_2_23.xlsx?raw=true\")"
      ],
      "metadata": {
        "id": "-4i_nNwFQWa-"
      },
      "execution_count": null,
      "outputs": []
    },
    {
      "cell_type": "markdown",
      "source": [
        "1. avere l'elenco degli appartamenti in vendita in un certo quartiere inserito dall'utente. Visualizzare gli appartamenti in ordine di data"
      ],
      "metadata": {
        "id": "-MtHbJtiQpbV"
      }
    },
    {
      "cell_type": "code",
      "source": [
        "quartiere = input(\"inserisci il nome di un quartiere: \")\n",
        "df[df[\"neighborhood\"].str.contains(quartiere, na = False)]"
      ],
      "metadata": {
        "id": "6d1P8rWNQr8m"
      },
      "execution_count": null,
      "outputs": []
    },
    {
      "cell_type": "markdown",
      "source": [
        "2. avere l'elenco dei quartieri presenti nel dataset. Visualizzare l'elenco in ordine alfabetico senza ripetizioni (estrarre tutti i quartieri e poi usare i metodi delle liste/tuple/insiemi/dizionari per eliminare i doppioni)"
      ],
      "metadata": {
        "id": "39q0uxCaRSEI"
      }
    },
    {
      "cell_type": "code",
      "source": [
        "quartieri = list(set(df[\"neighborhood\"].dropna()))\n",
        "quartieri.sort()\n",
        "print(quartieri)"
      ],
      "metadata": {
        "id": "u1pk7WGdRUQF"
      },
      "execution_count": null,
      "outputs": []
    },
    {
      "cell_type": "markdown",
      "source": [
        "3. 3. avere l'elenco dei quartieri presenti nel dataset. Visualizzare l'elenco in ordine alfabetico senza ripetizioni (usare i metodi di pandas per eliminare i doppioni)"
      ],
      "metadata": {
        "id": "6olE_6Q6SgU1"
      }
    },
    {
      "cell_type": "code",
      "source": [
        "df[[\"neighborhood\"]].drop_duplicates().sort_values(by=\"neighborhood\").dropna()"
      ],
      "metadata": {
        "id": "sv6LWUL1SkfF"
      },
      "execution_count": null,
      "outputs": []
    },
    {
      "cell_type": "markdown",
      "source": [
        "4. visualizzare il prezzo medio di una zona di Milano inserita dall'utente"
      ],
      "metadata": {
        "id": "NjMjSuf3UeF9"
      }
    },
    {
      "cell_type": "code",
      "source": [
        "zona = input(\"inserisci una zona: \")\n",
        "dfZona = df[df[\"neighborhood\"].str.contains(zona)]\n",
        "media = round(dfZona[\"price\"].mean(), 0)\n",
        "print(media)"
      ],
      "metadata": {
        "id": "yQv9_QlIUgK1"
      },
      "execution_count": null,
      "outputs": []
    },
    {
      "cell_type": "markdown",
      "source": [
        "5. visualizzare il prezzo medio di ogni quartiere di Milano. Ordinare i risultati in ordine decrescente sul prezzo medio"
      ],
      "metadata": {
        "id": "-fGW-6CfW9mP"
      }
    },
    {
      "cell_type": "code",
      "source": [
        "dfMedia = df.groupby(\"neighborhood\")[[\"price\"]].mean().sort_values(by = \"price\", ascending = False).reset_index().dropna()\n",
        "dfMedia"
      ],
      "metadata": {
        "id": "Hskzy5LhXAfu"
      },
      "execution_count": null,
      "outputs": []
    },
    {
      "cell_type": "markdown",
      "source": [
        "6. scrivere una funzione che converta un prezzo in euro in un'altra valuta. La funzione ha due parametri: il prezzo in euro e il tasso di conversione euro-altra valuta. Utilizzare questa funzione per modificare l'esercizio 5 facendo inserire all'utente il tasso di conversione e visualizzando i risultati nella nuova valuta."
      ],
      "metadata": {
        "id": "J4zumX9VaI7W"
      }
    },
    {
      "cell_type": "code",
      "source": [
        "def convertitore(euro, tasso): \n",
        "  return euro * tasso\n",
        "\n",
        "d = dfMedia[[\"price\"]].dropna()\n",
        "tasso = float(input(\"inserisci un tasso di conversione: \"))\n",
        "convertitore(d, tasso)"
      ],
      "metadata": {
        "id": "GiX-rnZ8aJhm"
      },
      "execution_count": null,
      "outputs": []
    }
  ]
}