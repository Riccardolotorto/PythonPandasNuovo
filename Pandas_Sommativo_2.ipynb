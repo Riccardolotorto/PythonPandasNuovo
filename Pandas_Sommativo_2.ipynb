{
  "nbformat": 4,
  "nbformat_minor": 0,
  "metadata": {
    "colab": {
      "provenance": [],
      "mount_file_id": "1mpOeEISFLUVWDe8yj59ohC-nbqXfDP4b",
      "authorship_tag": "ABX9TyPDqbCMW6NWECWGOtMOaN1V",
      "include_colab_link": true
    },
    "kernelspec": {
      "name": "python3",
      "display_name": "Python 3"
    },
    "language_info": {
      "name": "python"
    }
  },
  "cells": [
    {
      "cell_type": "markdown",
      "metadata": {
        "id": "view-in-github",
        "colab_type": "text"
      },
      "source": [
        "<a href=\"https://colab.research.google.com/github/Riccardolotorto/PythonPandasNuovo/blob/main/Pandas_Sommativo_2.ipynb\" target=\"_parent\"><img src=\"https://colab.research.google.com/assets/colab-badge.svg\" alt=\"Open In Colab\"/></a>"
      ]
    },
    {
      "cell_type": "code",
      "execution_count": 1,
      "metadata": {
        "id": "G4vchzFvdkJS"
      },
      "outputs": [],
      "source": [
        "import pandas as pd"
      ]
    },
    {
      "cell_type": "code",
      "source": [
        "df = pd.read_csv(\"/content/drive/MyDrive/Colab Notebooks/df_3.csv\")"
      ],
      "metadata": {
        "id": "eYpxOvF3ed3M"
      },
      "execution_count": 2,
      "outputs": []
    },
    {
      "cell_type": "markdown",
      "source": [
        "1. visualizzare in due modi gli ultimi 10 record"
      ],
      "metadata": {
        "id": "xZcvmdlLehRi"
      }
    },
    {
      "cell_type": "code",
      "source": [
        "df.tail(10)"
      ],
      "metadata": {
        "id": "Y_hJ_uxdei6j"
      },
      "execution_count": null,
      "outputs": []
    },
    {
      "cell_type": "code",
      "source": [
        "df[-10:-1]"
      ],
      "metadata": {
        "id": "FZQY0-2felzK"
      },
      "execution_count": null,
      "outputs": []
    },
    {
      "cell_type": "markdown",
      "source": [
        "2. visualizzare la seconda e la terza colonna delle righe dalla 200 alla 210 (comprese)\n"
      ],
      "metadata": {
        "id": "8xqIujFxeq27"
      }
    },
    {
      "cell_type": "code",
      "source": [
        "df[200:211][[\"Name\", \"Chief developer, company\"]]"
      ],
      "metadata": {
        "id": "dbhLM1U-etd1"
      },
      "execution_count": null,
      "outputs": []
    },
    {
      "cell_type": "markdown",
      "source": [
        "3. visualizzare i 10 record centrali. Fare in modo che il codice possa funzionare anche se dovesse cambiare la lunghezza del dataframe\n"
      ],
      "metadata": {
        "id": "7zmN7zGue5oC"
      }
    },
    {
      "cell_type": "code",
      "source": [
        "df[(len(df) // 2 - 5):(len(df) // 2 + 5)]"
      ],
      "metadata": {
        "id": "qfoBlT5ve7YR"
      },
      "execution_count": null,
      "outputs": []
    },
    {
      "cell_type": "markdown",
      "source": [
        "4. visualizzare il numero di linguaggi di programmazione di cui non si conosce il predecessore"
      ],
      "metadata": {
        "id": "DXZrE6JGfOuj"
      }
    },
    {
      "cell_type": "code",
      "source": [
        "len(df[df[\"Predecessor(s)\"].isnull()])"
      ],
      "metadata": {
        "id": "rRsMzcVPfQ04"
      },
      "execution_count": null,
      "outputs": []
    },
    {
      "cell_type": "markdown",
      "source": [
        "5. visualizzare i linguaggi di programmazione che hanno la parola Pascal nel nome"
      ],
      "metadata": {
        "id": "Zovnj7e5feXT"
      }
    },
    {
      "cell_type": "code",
      "source": [
        "df[df.Name.str.contains(\"Pascal\")]"
      ],
      "metadata": {
        "id": "0_x19oidfgpz"
      },
      "execution_count": null,
      "outputs": []
    },
    {
      "cell_type": "markdown",
      "source": [
        "6. visualizzare i linguaggi di programmazione che hanno la parola C++ nel nome"
      ],
      "metadata": {
        "id": "YwENeRjBfmtS"
      }
    },
    {
      "cell_type": "code",
      "source": [
        "df[df.Name.str.contains(\"C++\", regex = False)]"
      ],
      "metadata": {
        "id": "tTdGvPjkfoRv"
      },
      "execution_count": null,
      "outputs": []
    },
    {
      "cell_type": "markdown",
      "source": [
        "7. visualizzare gli anni in cui sono stati inventati più di 5 linguaggi di programmazione\n"
      ],
      "metadata": {
        "id": "8GsKipXtgEM0"
      }
    },
    {
      "cell_type": "code",
      "source": [
        "dfanni = df.groupby(\"Year\")[[\"Name\"]].count().reset_index()\n",
        "dfanni[dfanni.Name > 5][[\"Year\"]]"
      ],
      "metadata": {
        "id": "EtvkynShgGM2"
      },
      "execution_count": null,
      "outputs": []
    },
    {
      "cell_type": "markdown",
      "source": [
        "8. creare un dizionario contenente i dati dell'esercizio precedente"
      ],
      "metadata": {
        "id": "beuMB3cJgifA"
      }
    },
    {
      "cell_type": "code",
      "source": [
        "dizionarioAnni = dict(zip(dfanni.Year, dfanni.Name))\n",
        "dizionarioAnni"
      ],
      "metadata": {
        "id": "JAArGtnTgnGV"
      },
      "execution_count": null,
      "outputs": []
    },
    {
      "cell_type": "markdown",
      "source": [
        "9. visualizzare l'anno in cui sono stati prodotti più linguaggi"
      ],
      "metadata": {
        "id": "jIW0PBpDg1qY"
      }
    },
    {
      "cell_type": "code",
      "source": [
        "dfanni[dfanni.Name == dfanni.Name.max()][[\"Year\"]]"
      ],
      "metadata": {
        "id": "gd3obu1kg5di"
      },
      "execution_count": null,
      "outputs": []
    },
    {
      "cell_type": "markdown",
      "source": [
        "10. rappresentare i dati dell’esercizio 7 con un grafico a barre orizzontali, specificando bene titolo, assi e legenda. Dare colori diversi alle barre."
      ],
      "metadata": {
        "id": "gbcUtzoIhJog"
      }
    },
    {
      "cell_type": "code",
      "source": [
        "import matplotlib.pyplot as plt"
      ],
      "metadata": {
        "id": "4qX-z1DshoaD"
      },
      "execution_count": 23,
      "outputs": []
    },
    {
      "cell_type": "code",
      "source": [
        "import numpy as np"
      ],
      "metadata": {
        "id": "HV_m_9UfiRpF"
      },
      "execution_count": 25,
      "outputs": []
    },
    {
      "cell_type": "code",
      "source": [
        "labels = dfanni.Year\n",
        "dati = dfanni.Name\n",
        "\n",
        "fig, ax = plt.subplots(figsize=(15,8))\n",
        "ax.barh(labels, dati, label='numero linguaggi di programmazione', color = [\"red\", \"green\", \"blue\", \"yellow\"])\n",
        "ax.set_ylabel('anni')\n",
        "ax.set_ylabel('numero linguaggi')\n",
        "ax.set_title('totale linguaggi di programmazione creati in ogni anno')\n",
        "ax.legend()"
      ],
      "metadata": {
        "id": "jN0oXXmohKkD"
      },
      "execution_count": null,
      "outputs": []
    },
    {
      "cell_type": "markdown",
      "source": [
        "11. eliminare i record dove nel nome è presente C++"
      ],
      "metadata": {
        "id": "mvPcHT-Rjr6e"
      }
    },
    {
      "cell_type": "code",
      "source": [
        "df = df.drop(df[df.Name.str.contains(\"C++\", regex = False)].index)"
      ],
      "metadata": {
        "id": "NnaZmMdbjvzA"
      },
      "execution_count": 30,
      "outputs": []
    },
    {
      "cell_type": "markdown",
      "source": [
        "12. contare quanti linguaggi di programmazione sono stati prodotti nel 2006"
      ],
      "metadata": {
        "id": "EZ-3ni_TkIxM"
      }
    },
    {
      "cell_type": "code",
      "source": [
        "len(df[df.Year == 2006])"
      ],
      "metadata": {
        "id": "ZOo0yIaWks3a"
      },
      "execution_count": null,
      "outputs": []
    }
  ]
}