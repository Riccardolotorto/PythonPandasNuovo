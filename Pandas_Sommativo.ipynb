{
  "nbformat": 4,
  "nbformat_minor": 0,
  "metadata": {
    "colab": {
      "provenance": [],
      "mount_file_id": "1pZ7OEYuaMG52w_jVhAYzFIIchRqxsu_F",
      "authorship_tag": "ABX9TyOaSjZtIJzT2pWA4A+Rz29H",
      "include_colab_link": true
    },
    "kernelspec": {
      "name": "python3",
      "display_name": "Python 3"
    },
    "language_info": {
      "name": "python"
    }
  },
  "cells": [
    {
      "cell_type": "markdown",
      "metadata": {
        "id": "view-in-github",
        "colab_type": "text"
      },
      "source": [
        "<a href=\"https://colab.research.google.com/github/Riccardolotorto/PythonPandasNuovo/blob/main/Pandas_Sommativo.ipynb\" target=\"_parent\"><img src=\"https://colab.research.google.com/assets/colab-badge.svg\" alt=\"Open In Colab\"/></a>"
      ]
    },
    {
      "cell_type": "code",
      "execution_count": 1,
      "metadata": {
        "id": "Q6flgKS4awAt"
      },
      "outputs": [],
      "source": [
        "import pandas as pd"
      ]
    },
    {
      "cell_type": "code",
      "source": [
        "df = pd.read_excel(\"/content/drive/MyDrive/Colab Notebooks/BikeStores.xls\", sheet_name=\"products\")"
      ],
      "metadata": {
        "id": "HcS2WgpEbkAC"
      },
      "execution_count": 2,
      "outputs": []
    },
    {
      "cell_type": "markdown",
      "source": [
        "1. l'elenco dei prodotti di una certa categoria inserita dall'utente. Ordinare i prodotti in ordine alfabetico sul nome"
      ],
      "metadata": {
        "id": "QcL02ZqJcQR7"
      }
    },
    {
      "cell_type": "code",
      "source": [
        "categoria = int(input(\"inserisci una categoria da 1 a 7 \"))\n",
        "df[df.category_id == categoria][[\"product_name\"]].sort_values(by=\"product_name\")"
      ],
      "metadata": {
        "id": "dMdhwdUCcWMM"
      },
      "execution_count": null,
      "outputs": []
    },
    {
      "cell_type": "markdown",
      "source": [
        "2. l'elenco dei prodotti che hanno un prezzo compreso tra due estremi inseriti dall'utente. Ordinare i prodotti in ordine decrescente sul prezzo"
      ],
      "metadata": {
        "id": "FLwAm-Wycm8f"
      }
    },
    {
      "cell_type": "code",
      "source": [
        "minimo = int(input(\"inserisci il prezzo minimo\"))\n",
        "massimo = int(input(\"inserisci il prezzo massimo \"))\n",
        "df[(df.list_price >= minimo) & (df.list_price <= massimo)].sort_values(by=\"list_price\", ascending = False)"
      ],
      "metadata": {
        "id": "BQAjNC4Tco3I"
      },
      "execution_count": null,
      "outputs": []
    },
    {
      "cell_type": "markdown",
      "source": [
        "3.  l'elenco dei prodotti che hanno nel nome una stringa inserita dall'utente. Ordinare i prodotti in ordine alfabetico."
      ],
      "metadata": {
        "id": "eNhUUsjtdIcB"
      }
    },
    {
      "cell_type": "code",
      "source": [
        "stringa = input(\"inserisci una stringa\")\n",
        "df[df.product_name.str.contains(stringa)].sort_values(by=\"product_name\")"
      ],
      "metadata": {
        "id": "N7PpaVMXdMbx"
      },
      "execution_count": null,
      "outputs": []
    },
    {
      "cell_type": "markdown",
      "source": [
        "4. il numero di prodotti per ogni categoria. "
      ],
      "metadata": {
        "id": "0F5WalUedmzZ"
      }
    },
    {
      "cell_type": "code",
      "source": [
        "dfcategorie = df.groupby(\"category_id\")[[\"product_name\"]].count().reset_index()\n",
        "dfcategorie"
      ],
      "metadata": {
        "id": "vZwXa5Axdpgg"
      },
      "execution_count": null,
      "outputs": []
    },
    {
      "cell_type": "markdown",
      "source": [
        "5. visualizzare la categoria con più prodotti"
      ],
      "metadata": {
        "id": "MSBjN7aBeyL9"
      }
    },
    {
      "cell_type": "code",
      "source": [
        "dfcategorie[dfcategorie.product_name == dfcategorie.product_name.max()][[\"category_id\"]]"
      ],
      "metadata": {
        "id": "Q619prLfe2Y9"
      },
      "execution_count": null,
      "outputs": []
    },
    {
      "cell_type": "markdown",
      "source": [
        "5. il grafico che rappresenta il numero di prodotti per ogni categoria"
      ],
      "metadata": {
        "id": "axRmGQXLd4KS"
      }
    },
    {
      "cell_type": "code",
      "source": [
        "import matplotlib.pyplot as plt"
      ],
      "metadata": {
        "id": "zhqoKvGsd6A1"
      },
      "execution_count": 11,
      "outputs": []
    },
    {
      "cell_type": "code",
      "source": [
        "parole = dfcategorie.category_id\n",
        "dati = dfcategorie.product_name\n",
        "\n",
        "fig, ax = plt.subplots(figsize=(15,8))\n",
        "ax.bar(parole, dati, label='numero di prodotti', color = [\"red\", \"blue\", \"green\"])\n",
        "ax.set_ylabel('numero')\n",
        "ax.set_xlabel('categorie')\n",
        "ax.set_title('numero di prodotti per ogni categoria')\n",
        "ax.legend()"
      ],
      "metadata": {
        "id": "sgnwLY2zd_rS"
      },
      "execution_count": null,
      "outputs": []
    }
  ]
}