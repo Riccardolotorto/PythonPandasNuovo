{
  "nbformat": 4,
  "nbformat_minor": 0,
  "metadata": {
    "colab": {
      "provenance": [],
      "mount_file_id": "1pZ7OEYuaMG52w_jVhAYzFIIchRqxsu_F",
      "authorship_tag": "ABX9TyNK9xCF56PAdKeD4xFDQBfO",
      "include_colab_link": true
    },
    "kernelspec": {
      "name": "python3",
      "display_name": "Python 3"
    },
    "language_info": {
      "name": "python"
    }
  },
  "cells": [
    {
      "cell_type": "markdown",
      "metadata": {
        "id": "view-in-github",
        "colab_type": "text"
      },
      "source": [
        "<a href=\"https://colab.research.google.com/github/Riccardolotorto/PythonPandasNuovo/blob/main/Pandas_Sommativo.ipynb\" target=\"_parent\"><img src=\"https://colab.research.google.com/assets/colab-badge.svg\" alt=\"Open In Colab\"/></a>"
      ]
    },
    {
      "cell_type": "code",
      "execution_count": 1,
      "metadata": {
        "id": "Q6flgKS4awAt"
      },
      "outputs": [],
      "source": [
        "import pandas as pd"
      ]
    },
    {
      "cell_type": "code",
      "source": [
        "df = pd.read_excel(\"/content/drive/MyDrive/Colab Notebooks/BikeStores.xls\", sheet_name=\"products\")"
      ],
      "metadata": {
        "id": "HcS2WgpEbkAC"
      },
      "execution_count": 16,
      "outputs": []
    },
    {
      "cell_type": "markdown",
      "source": [
        "1. l'elenco dei prodotti di una certa categoria inserita dall'utente. Ordinare i prodotti in ordine alfabetico sul nome"
      ],
      "metadata": {
        "id": "QcL02ZqJcQR7"
      }
    },
    {
      "cell_type": "code",
      "source": [
        "categoria = int(input(\"inserisci una categoria da 1 a 7 \"))\n",
        "df[df.category_id == categoria][[\"product_name\"]].sort_values(by=\"product_name\")"
      ],
      "metadata": {
        "id": "dMdhwdUCcWMM"
      },
      "execution_count": null,
      "outputs": []
    },
    {
      "cell_type": "markdown",
      "source": [
        "2. l'elenco dei prodotti che hanno un prezzo compreso tra due estremi inseriti dall'utente. Ordinare i prodotti in ordine decrescente sul prezzo"
      ],
      "metadata": {
        "id": "FLwAm-Wycm8f"
      }
    },
    {
      "cell_type": "code",
      "source": [
        "minimo = int(input(\"inserisci il prezzo minimo\"))\n",
        "massimo = int(input(\"inserisci il prezzo massimo \"))\n",
        "df[(df.list_price >= minimo) & (df.list_price <= massimo)].sort_values(by=\"list_price\", ascending = False)"
      ],
      "metadata": {
        "id": "BQAjNC4Tco3I"
      },
      "execution_count": null,
      "outputs": []
    },
    {
      "cell_type": "markdown",
      "source": [
        "3.  l'elenco dei prodotti che hanno nel nome una stringa inserita dall'utente. Ordinare i prodotti in ordine alfabetico."
      ],
      "metadata": {
        "id": "eNhUUsjtdIcB"
      }
    },
    {
      "cell_type": "code",
      "source": [
        "stringa = input(\"inserisci una stringa\")\n",
        "df[df.product_name.str.contains(stringa)].sort_values(by=\"product_name\")"
      ],
      "metadata": {
        "id": "N7PpaVMXdMbx"
      },
      "execution_count": null,
      "outputs": []
    },
    {
      "cell_type": "markdown",
      "source": [
        "4. il numero di prodotti per ogni categoria. "
      ],
      "metadata": {
        "id": "0F5WalUedmzZ"
      }
    },
    {
      "cell_type": "code",
      "source": [
        "dfcategorie = df.groupby(\"category_id\")[[\"product_name\"]].count().reset_index()\n",
        "dfcategorie"
      ],
      "metadata": {
        "id": "vZwXa5Axdpgg"
      },
      "execution_count": null,
      "outputs": []
    },
    {
      "cell_type": "markdown",
      "source": [
        "5. visualizzare la categoria con più prodotti"
      ],
      "metadata": {
        "id": "MSBjN7aBeyL9"
      }
    },
    {
      "cell_type": "code",
      "source": [
        "dfcategorie[dfcategorie.product_name == dfcategorie.product_name.max()][[\"category_id\"]]"
      ],
      "metadata": {
        "id": "Q619prLfe2Y9"
      },
      "execution_count": null,
      "outputs": []
    },
    {
      "cell_type": "markdown",
      "source": [
        "5. il grafico che rappresenta il numero di prodotti per ogni categoria"
      ],
      "metadata": {
        "id": "axRmGQXLd4KS"
      }
    },
    {
      "cell_type": "code",
      "source": [
        "import matplotlib.pyplot as plt"
      ],
      "metadata": {
        "id": "zhqoKvGsd6A1"
      },
      "execution_count": null,
      "outputs": []
    },
    {
      "cell_type": "code",
      "source": [
        "parole = dfcategorie.category_id\n",
        "dati = dfcategorie.product_name\n",
        "\n",
        "fig, ax = plt.subplots(figsize=(15,8))\n",
        "ax.bar(parole, dati, label='numero di prodotti', color = [\"red\", \"blue\", \"green\"])\n",
        "ax.set_ylabel('numero')\n",
        "ax.set_xlabel('categorie')\n",
        "ax.set_title('numero di prodotti per ogni categoria')\n",
        "ax.legend()"
      ],
      "metadata": {
        "id": "sgnwLY2zd_rS"
      },
      "execution_count": null,
      "outputs": []
    },
    {
      "cell_type": "markdown",
      "source": [
        "6. mostrare le prime dieci righe del dataframe in due modi"
      ],
      "metadata": {
        "id": "YWRdYvqXTOKk"
      }
    },
    {
      "cell_type": "code",
      "source": [
        "df.head(10)"
      ],
      "metadata": {
        "id": "ImkMW087TUo0"
      },
      "execution_count": null,
      "outputs": []
    },
    {
      "cell_type": "code",
      "source": [
        "df[:10]"
      ],
      "metadata": {
        "id": "YVarWPO9UR7I"
      },
      "execution_count": null,
      "outputs": []
    },
    {
      "cell_type": "markdown",
      "source": [
        "7. visualizzare solo le righe 10, 20, 30"
      ],
      "metadata": {
        "id": "Rpy3wjbXaFy2"
      }
    },
    {
      "cell_type": "code",
      "source": [
        "df.iloc[[10, 20, 30]]"
      ],
      "metadata": {
        "id": "BYUw-BYhaJRH"
      },
      "execution_count": null,
      "outputs": []
    },
    {
      "cell_type": "markdown",
      "source": [
        "8. contare quante categorie ci sono"
      ],
      "metadata": {
        "id": "O0babiHSaR9F"
      }
    },
    {
      "cell_type": "code",
      "source": [
        "len(set(df.category_id))"
      ],
      "metadata": {
        "id": "t8B1-11Kab8H"
      },
      "execution_count": null,
      "outputs": []
    },
    {
      "cell_type": "markdown",
      "source": [
        "9. leggere il foglio categories del file excel"
      ],
      "metadata": {
        "id": "GMGmP2fxakUi"
      }
    },
    {
      "cell_type": "code",
      "source": [
        "df2 = pd.read_excel(\"/content/drive/MyDrive/Colab Notebooks/BikeStores.xls\", sheet_name=\"categories\")"
      ],
      "metadata": {
        "id": "mMwfXj24aqad"
      },
      "execution_count": 12,
      "outputs": []
    },
    {
      "cell_type": "code",
      "source": [
        "df2"
      ],
      "metadata": {
        "id": "zUZRF_Lsau8n"
      },
      "execution_count": null,
      "outputs": []
    },
    {
      "cell_type": "markdown",
      "source": [
        "10. aggiungere una colonna all'altro dataframe che contenga le categorie non numeriche"
      ],
      "metadata": {
        "id": "pkmw1nktaxMK"
      }
    },
    {
      "cell_type": "code",
      "source": [
        "df = df.merge(df2, on = \"category_id\")"
      ],
      "metadata": {
        "id": "CvIevolCa6zr"
      },
      "execution_count": 18,
      "outputs": []
    },
    {
      "cell_type": "code",
      "source": [
        "df"
      ],
      "metadata": {
        "id": "qyMU6xtua-HO"
      },
      "execution_count": null,
      "outputs": []
    },
    {
      "cell_type": "markdown",
      "source": [
        "11. contare quanti prodotti sono mountain bike"
      ],
      "metadata": {
        "id": "CT-Xztf4bLnk"
      }
    },
    {
      "cell_type": "code",
      "source": [
        "len(df[df.category_name.str.contains(\"Mountain\")])"
      ],
      "metadata": {
        "id": "HX80W1gVbQDa"
      },
      "execution_count": null,
      "outputs": []
    },
    {
      "cell_type": "markdown",
      "source": [
        "12. creare un dizionario contenenti le stesse informazioni dell'esercizio 4"
      ],
      "metadata": {
        "id": "TiWN8_P9cNI2"
      }
    },
    {
      "cell_type": "code",
      "source": [
        "dizionario = dict(zip(dfcategorie.category_id, dfcategorie.product_name))\n",
        "dizionario"
      ],
      "metadata": {
        "id": "tXHey4m0cT6L"
      },
      "execution_count": null,
      "outputs": []
    },
    {
      "cell_type": "markdown",
      "source": [
        "13. trasformare il dizionario appena creato in un nuovo dataframe"
      ],
      "metadata": {
        "id": "3SlYdtkJcnSN"
      }
    },
    {
      "cell_type": "code",
      "source": [
        "dfDizionario = pd.DataFrame(dizionario.items(), columns = [\"Numero_categoria\", \"numero_di_prodotti\"])\n",
        "dfDizionario"
      ],
      "metadata": {
        "id": "KntkCzxzcs3n"
      },
      "execution_count": null,
      "outputs": []
    }
  ]
}